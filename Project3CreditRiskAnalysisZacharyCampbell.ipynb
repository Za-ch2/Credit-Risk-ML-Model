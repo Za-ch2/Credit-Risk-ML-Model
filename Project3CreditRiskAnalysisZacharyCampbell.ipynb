{
 "cells": [
  {
   "cell_type": "code",
   "execution_count": 21,
   "id": "3ce8499a",
   "metadata": {},
   "outputs": [],
   "source": [
    "# Import necessary libraries\n",
    "import pandas as pd\n",
    "from sklearn.model_selection import train_test_split\n",
    "from sklearn.preprocessing import LabelEncoder, OneHotEncoder, StandardScaler\n",
    "from sklearn.ensemble import RandomForestClassifier\n",
    "from sklearn.metrics import accuracy_score\n",
    "from sklearn.compose import ColumnTransformer\n",
    "from sklearn.pipeline import Pipeline\n",
    "\n",
    "# Load the German Credit Risk dataset from a local file, skipping the header row\n",
    "data = pd.read_csv(file_path, sep=',', names=columns, skiprows=1)\n",
    "\n"
   ]
  },
  {
   "cell_type": "code",
   "execution_count": 22,
   "id": "ca8a2139",
   "metadata": {},
   "outputs": [],
   "source": [
    "# Data Preprocessing\n",
    "# 1. Handle Categorical Variables\n",
    "\n",
    "# Encode the target variable ('Creditability')\n",
    "le = LabelEncoder()\n",
    "data['Creditability'] = le.fit_transform(data['Creditability'])\n",
    "\n",
    "# One-hot encode categorical features\n",
    "categorical_features = [\"Account Balance\", \"Payment Status of Previous Credit\", \"Purpose\", \n",
    "                        \"Sex & Marital Status\", \"Guarantors\", \"Most valuable available asset\", \n",
    "                        \"Concurrent Credits\", \"Type of apartment\", \"Occupation\", \"Telephone\", \"Foreign Worker\"]\n",
    "\n",
    "data = pd.get_dummies(data, columns=categorical_features, drop_first=True)\n",
    "\n",
    "# 2. Scaling Numerical Features\n",
    "\n",
    "# Extract numerical columns\n",
    "numerical_features = [\"Duration of Credit (month)\", \"Credit Amount\", \"Value Savings/Stocks\", \n",
    "                      \"Length of current employment\", \"Instalment per cent\", \"Age (years)\", \n",
    "                      \"No of Credits at this Bank\", \"No of dependents\"]\n",
    "\n"
   ]
  },
  {
   "cell_type": "code",
   "execution_count": 23,
   "id": "bddaafa9",
   "metadata": {},
   "outputs": [],
   "source": [
    "# Create a column transformer for scaling\n",
    "preprocessor = ColumnTransformer(\n",
    "    transformers=[\n",
    "        ('num', StandardScaler(), numerical_features)\n",
    "    ])\n",
    "\n",
    "# Create a pipeline with preprocessing and model\n",
    "pipeline = Pipeline([\n",
    "    ('preprocessor', preprocessor),\n",
    "    ('classifier', RandomForestClassifier(random_state=42))\n",
    "])\n",
    "\n"
   ]
  },
  {
   "cell_type": "code",
   "execution_count": 24,
   "id": "6fd38f19",
   "metadata": {},
   "outputs": [
    {
     "name": "stdout",
     "output_type": "stream",
     "text": [
      "Model Accuracy: 0.72\n"
     ]
    }
   ],
   "source": [
    "# Split the data into training and testing sets\n",
    "X = data.drop('Creditability', axis=1)\n",
    "y = data['Creditability']\n",
    "X_train, X_test, y_train, y_test = train_test_split(X, y, test_size=0.2, random_state=42)\n",
    "\n",
    "# Train the model using the pipeline\n",
    "pipeline.fit(X_train, y_train)\n",
    "\n",
    "# Make predictions on the test set\n",
    "y_pred = pipeline.predict(X_test)\n",
    "\n",
    "# Evaluate the model's accuracy\n",
    "accuracy = accuracy_score(y_test, y_pred)\n",
    "print(f\"Model Accuracy: {accuracy}\")\n"
   ]
  },
  {
   "cell_type": "code",
   "execution_count": 25,
   "id": "63e5e472",
   "metadata": {},
   "outputs": [
    {
     "name": "stdout",
     "output_type": "stream",
     "text": [
      "Classification Report:\n",
      "              precision    recall  f1-score   support\n",
      "\n",
      "           0       0.59      0.32      0.42        62\n",
      "           1       0.75      0.90      0.82       138\n",
      "\n",
      "    accuracy                           0.72       200\n",
      "   macro avg       0.67      0.61      0.62       200\n",
      "weighted avg       0.70      0.72      0.69       200\n",
      "\n",
      "Confusion Matrix:\n",
      "[[ 20  42]\n",
      " [ 14 124]]\n"
     ]
    }
   ],
   "source": [
    "from sklearn.metrics import confusion_matrix, classification_report\n",
    "\n",
    "# Compute additional metrics\n",
    "print(\"Classification Report:\")\n",
    "print(classification_report(y_test, y_pred))\n",
    "\n",
    "# Display the confusion matrix\n",
    "conf_matrix = confusion_matrix(y_test, y_pred)\n",
    "print(\"Confusion Matrix:\")\n",
    "print(conf_matrix)\n"
   ]
  }
 ],
 "metadata": {
  "kernelspec": {
   "display_name": "Python 3 (ipykernel)",
   "language": "python",
   "name": "python3"
  },
  "language_info": {
   "codemirror_mode": {
    "name": "ipython",
    "version": 3
   },
   "file_extension": ".py",
   "mimetype": "text/x-python",
   "name": "python",
   "nbconvert_exporter": "python",
   "pygments_lexer": "ipython3",
   "version": "3.9.13"
  }
 },
 "nbformat": 4,
 "nbformat_minor": 5
}
